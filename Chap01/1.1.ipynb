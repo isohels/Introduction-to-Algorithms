{
 "cells": [
  {
   "cell_type": "markdown",
   "metadata": {},
   "source": [
    "## 1.1-1\n",
    "\n",
    "> Give a real-world example that requires sorting or a real-world example that requires computing a convex hull."
   ]
  },
  {
   "cell_type": "markdown",
   "metadata": {},
   "source": [
    "- Sorting: Sorting of students marks in a class.\n",
    "- What is Convex Hull? - Suppose you have a set of points. A convex hull of set of points is a smallest convex polygon which encloses all the   points without bending inwards.\n",
    "- We can use convex-hull for finding diameter for set of points."
   ]
  },
  {
   "cell_type": "markdown",
   "metadata": {},
   "source": [
    " ## 1.1-2\n",
    "\n",
    "> Other than speed, what other measures of efficiency might one use in a real-world setting?"
   ]
  },
  {
   "cell_type": "markdown",
   "metadata": {},
   "source": [
    " - Other than speed we also measure Memory efficiency and coding efficiency."
   ]
  },
  {
   "cell_type": "markdown",
   "metadata": {},
   "source": [
    "## 1.1-3\n",
    "\n",
    "> Select a data structure that you have seen previously, and discuss its strengths and limitations."
   ]
  },
  {
   "cell_type": "markdown",
   "metadata": {},
   "source": [
    "Linked-list:\n",
    "\n",
    "- Strengths: insertion and deletion.\n",
    "- Limitations: random access."
   ]
  },
  {
   "cell_type": "markdown",
   "metadata": {},
   "source": [
    "## 1.1-4\n",
    "\n",
    "> How are the shortest-path and traveling-salesman problems given above similar? How are they different?\n",
    "\n",
    "- Similar: Finding path with shortest distance.\n",
    "- Different: Traveling-salesman has more constrains (Visiting a particular node)."
   ]
  },
  {
   "cell_type": "markdown",
   "metadata": {},
   "source": [
    "## 1.1-5\n",
    "\n",
    "> Come up with a real-world problem in which only the best solution will do. Then come up with one in which a solution that is \"approximately\" the best is good enough.\n",
    "\n",
    "- Best: find the GCD of two positive integer numbers.\n",
    "- Approximately: Recommendation System used for movie suggestion on netflix or product suggestion on amazon."
   ]
  }
 ],
 "metadata": {
  "kernelspec": {
   "display_name": "Python 3",
   "language": "python",
   "name": "python3"
  },
  "language_info": {
   "codemirror_mode": {
    "name": "ipython",
    "version": 3
   },
   "file_extension": ".py",
   "mimetype": "text/x-python",
   "name": "python",
   "nbconvert_exporter": "python",
   "pygments_lexer": "ipython3",
   "version": "3.7.6"
  }
 },
 "nbformat": 4,
 "nbformat_minor": 4
}
