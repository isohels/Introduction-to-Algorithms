{
 "cells": [
  {
   "cell_type": "markdown",
   "metadata": {},
   "source": [
    "### Prime Number\n",
    " - First we will try the brute force approach\n",
    " - In brute force approach we try all possible values from 2 to n-1.\n",
    " - Complexity of brute force is O(n)"
   ]
  },
  {
   "cell_type": "code",
   "execution_count": 119,
   "metadata": {},
   "outputs": [
    {
     "name": "stdout",
     "output_type": "stream",
     "text": [
      "Enter number 5\n"
     ]
    },
    {
     "data": {
      "text/plain": [
       "'True'"
      ]
     },
     "execution_count": 119,
     "metadata": {},
     "output_type": "execute_result"
    }
   ],
   "source": [
    "def bruteforce(n):\n",
    "    if(n<=1):\n",
    "        return(\"False\")\n",
    "    for num in range(2,n-1):\n",
    "        if (n%num==0):\n",
    "            return(\"False\")\n",
    "    else:\n",
    "        return(\"True\")\n",
    "\n",
    "bruteforce(int(input(\"Enter number \")))"
   ]
  },
  {
   "cell_type": "markdown",
   "metadata": {},
   "source": [
    "### Here we will reduce the complexity of brute force approach\n",
    " - We will go from 2 to sqrt(n) to find if a number is prime or not.\n",
    " - A number can be represented as a multiplication of two number, if we found one we can other easily.\n",
    " - Complexity of brute force is O(sqrt(n))"
   ]
  },
  {
   "cell_type": "code",
   "execution_count": 13,
   "metadata": {},
   "outputs": [],
   "source": [
    "import math"
   ]
  },
  {
   "cell_type": "code",
   "execution_count": 138,
   "metadata": {},
   "outputs": [
    {
     "name": "stdout",
     "output_type": "stream",
     "text": [
      "Enter Number 8\n"
     ]
    },
    {
     "data": {
      "text/plain": [
       "False"
      ]
     },
     "execution_count": 138,
     "metadata": {},
     "output_type": "execute_result"
    }
   ],
   "source": [
    "def bruteforce(n):\n",
    "    if(n<=1):\n",
    "        return(\"False\")\n",
    "    for num in range(2,int(math.sqrt(n)+1)):\n",
    "        if (n%num == 0):\n",
    "            return False\n",
    "            break\n",
    "    else:\n",
    "        return True\n",
    "\n",
    "bruteforce(float(input(\"Enter Number \")))"
   ]
  },
  {
   "cell_type": "markdown",
   "metadata": {},
   "source": [
    "### Prime Factorization\n",
    " - We will calculate all the prime factors of a number\n",
    " - Think of this problem as long division problem\n",
    " - Keep on dividing a number till its not divisible anymore"
   ]
  },
  {
   "cell_type": "code",
   "execution_count": 67,
   "metadata": {},
   "outputs": [
    {
     "name": "stdout",
     "output_type": "stream",
     "text": [
      "enter number 1020\n",
      "2 2\n",
      "3 1\n",
      "5 1\n",
      "17 1\n"
     ]
    }
   ],
   "source": [
    "def primeFact(n):\n",
    "    d = int(2)\n",
    "    factorList = []\n",
    "    expoList = []\n",
    "    if (n<=1):\n",
    "        return(\"Sorry! Lowest Prime number is 2\")\n",
    "    while(n>1):\n",
    "        counter = 0\n",
    "        while(n%d == 0):\n",
    "            n = n//d\n",
    "            counter = counter + 1\n",
    "        if(counter>0):\n",
    "            factorList.append(d)\n",
    "            expoList.append(counter)\n",
    "        \n",
    "        d+=1\n",
    "        \n",
    "#     print(\"Factors are {} and their exponential power is {}\".format(factorList,expoList))\n",
    "    res = \"\\n\".join(\"{} {}\".format(x, y) for x, y in zip(factorList, expoList))\n",
    "    print(res)\n",
    "    \n",
    "    \n",
    "primeFact(int(input(\"enter number \")))"
   ]
  },
  {
   "cell_type": "markdown",
   "metadata": {},
   "source": [
    "### Here we will try to reduce the above complexity of 0(n) to O(sqrt(n))\n",
    " - Its easy we wil try to go from 2 to sqrt(n)"
   ]
  },
  {
   "cell_type": "code",
   "execution_count": 68,
   "metadata": {},
   "outputs": [
    {
     "name": "stdout",
     "output_type": "stream",
     "text": [
      "Enter Number 1020\n",
      "2 2\n",
      "3 1\n",
      "5 1\n",
      "17 1\n"
     ]
    }
   ],
   "source": [
    "def primeFact(n):\n",
    "    d = 2\n",
    "    factorList = []\n",
    "    expoList = []\n",
    "    \n",
    "    while(n>1 and d*d <= n):\n",
    "        counter = 0\n",
    "        while(n%d == 0):\n",
    "            n = n/d\n",
    "            counter +=1\n",
    "        if(counter>0):\n",
    "            factorList.append(d)\n",
    "            expoList.append(counter)\n",
    "        d += 1\n",
    "        \n",
    "    if(n>1):\n",
    "        factorList.append(int(n))\n",
    "        expoList.append(1)\n",
    "        \n",
    "    res = \"\\n\".join(\"{} {}\".format(x,y) for x,y in zip(factorList,expoList))\n",
    "    print(res)\n",
    "\n",
    "    \n",
    "primeFact(int(input(\"Enter Number \")))"
   ]
  },
  {
   "cell_type": "markdown",
   "metadata": {},
   "source": [
    "### Finding Prime number to a given limit.\n",
    " - Trial division method\n",
    " - Time complexity is O(n*log(n))"
   ]
  },
  {
   "cell_type": "code",
   "execution_count": 141,
   "metadata": {},
   "outputs": [
    {
     "name": "stdout",
     "output_type": "stream",
     "text": [
      "Please Enter the Limit: 99\n"
     ]
    },
    {
     "data": {
      "text/plain": [
       "[2,\n",
       " 3,\n",
       " 5,\n",
       " 7,\n",
       " 11,\n",
       " 13,\n",
       " 17,\n",
       " 19,\n",
       " 23,\n",
       " 29,\n",
       " 31,\n",
       " 37,\n",
       " 41,\n",
       " 43,\n",
       " 47,\n",
       " 53,\n",
       " 59,\n",
       " 61,\n",
       " 67,\n",
       " 71,\n",
       " 73,\n",
       " 79,\n",
       " 83,\n",
       " 89,\n",
       " 97]"
      ]
     },
     "execution_count": 141,
     "metadata": {},
     "output_type": "execute_result"
    }
   ],
   "source": [
    "def findPrimeNumbers(n):\n",
    "    primeList = []\n",
    "    \n",
    "    for i in range(2,n+1):\n",
    "        if isPrime(i):\n",
    "            primeList.append(i)\n",
    "        \n",
    "    return(primeList)\n",
    "    \n",
    "    \n",
    "def isPrime(i):\n",
    "    for num in range(2,int(math.sqrt(i)+1)):\n",
    "        if (i%num == 0):\n",
    "            return False\n",
    "    else:\n",
    "        return True\n",
    "    \n",
    "    \n",
    "    \n",
    "findPrimeNumbers(int(input(\"Please Enter the Limit: \")))"
   ]
  }
 ],
 "metadata": {
  "kernelspec": {
   "display_name": "Python 3",
   "language": "python",
   "name": "python3"
  },
  "language_info": {
   "codemirror_mode": {
    "name": "ipython",
    "version": 3
   },
   "file_extension": ".py",
   "mimetype": "text/x-python",
   "name": "python",
   "nbconvert_exporter": "python",
   "pygments_lexer": "ipython3",
   "version": "3.7.6"
  }
 },
 "nbformat": 4,
 "nbformat_minor": 4
}
