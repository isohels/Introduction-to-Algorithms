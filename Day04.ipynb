{
 "cells": [
  {
   "cell_type": "markdown",
   "metadata": {},
   "source": [
    "### Frequency Array"
   ]
  },
  {
   "cell_type": "code",
   "execution_count": 13,
   "metadata": {},
   "outputs": [
    {
     "name": "stdout",
     "output_type": "stream",
     "text": [
      "1 2 3 4 5 5 6 6\n",
      "1 : 1\n",
      "2 : 1\n",
      "3 : 1\n",
      "4 : 1\n",
      "5 : 2\n",
      "6 : 2\n",
      "Number of Unique Keys 6 \n"
     ]
    }
   ],
   "source": [
    "myarray = list(map(int,input().split()))\n",
    "freq = {}\n",
    "def freqArray():\n",
    "    \n",
    "    \n",
    "    \n",
    "    for item in myarray:\n",
    "        if (item in freq):\n",
    "            freq[item] += 1\n",
    "        else:\n",
    "            freq[item] = 1\n",
    "            \n",
    "    \n",
    "    for key,value in freq.items():\n",
    "        print(\"{} : {}\".format(key,value))\n",
    "        \n",
    "    print(\"Number of Unique Keys {} \".format(len(freq.keys())))\n",
    "\n",
    "freqArray()"
   ]
  }
 ],
 "metadata": {
  "kernelspec": {
   "display_name": "Python 3",
   "language": "python",
   "name": "python3"
  },
  "language_info": {
   "codemirror_mode": {
    "name": "ipython",
    "version": 3
   },
   "file_extension": ".py",
   "mimetype": "text/x-python",
   "name": "python",
   "nbconvert_exporter": "python",
   "pygments_lexer": "ipython3",
   "version": "3.7.6"
  }
 },
 "nbformat": 4,
 "nbformat_minor": 4
}
