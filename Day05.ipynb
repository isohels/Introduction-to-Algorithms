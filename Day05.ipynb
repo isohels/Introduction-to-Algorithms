{
 "cells": [
  {
   "cell_type": "markdown",
   "metadata": {},
   "source": [
    "### Maximum Sum Subarray\n",
    " - time complexity O(n^3)\n",
    " - We have defined ans to be -256, but we have to assign least possible negative value\n",
    " -  Takes the input of array and length of array"
   ]
  },
  {
   "cell_type": "code",
   "execution_count": 47,
   "metadata": {},
   "outputs": [
    {
     "data": {
      "text/plain": [
       "7"
      ]
     },
     "execution_count": 47,
     "metadata": {},
     "output_type": "execute_result"
    }
   ],
   "source": [
    "def maxSubArray(array,n):\n",
    "    \n",
    "    ans = -256\n",
    "    \n",
    "    for sub_array in range(1,n+1):\n",
    "        \n",
    "        for start_index in range (0,n):\n",
    "            \n",
    "            if(start_index+sub_array>n):\n",
    "                break\n",
    "            sum = 0\n",
    "            \n",
    "            for i in range(start_index,start_index+sub_array-1):\n",
    "                sum += array[i]\n",
    "                \n",
    "        ans = max(ans,sum)\n",
    "            \n",
    "    return((ans))\n",
    "    \n",
    "    \n",
    "\n",
    "maxSubArray([-2, -3, 4, -1, -2, 1, 5, -3],8)"
   ]
  },
  {
   "cell_type": "markdown",
   "metadata": {},
   "source": [
    " - Reducing the Time complexity by O(n^2)"
   ]
  },
  {
   "cell_type": "code",
   "execution_count": 48,
   "metadata": {},
   "outputs": [
    {
     "data": {
      "text/plain": [
       "7"
      ]
     },
     "execution_count": 48,
     "metadata": {},
     "output_type": "execute_result"
    }
   ],
   "source": [
    "def maxSubArray(array,n):\n",
    "    \n",
    "    ans = -256\n",
    "    \n",
    "    for start_index in range(0,n):\n",
    "        \n",
    "        sum=0\n",
    "        \n",
    "        for sub_array in range(1,n+1):\n",
    "            \n",
    "            if(start_index+sub_array>n):\n",
    "                break\n",
    "            sum += array[start_index+sub_array-1]\n",
    "            \n",
    "            ans = max(sum,ans)\n",
    "            \n",
    "    return(ans)\n",
    "\n",
    "maxSubArray([-2, -3, 4, -1, -2, 1, 5, -3],8)"
   ]
  }
 ],
 "metadata": {
  "kernelspec": {
   "display_name": "Python 3",
   "language": "python",
   "name": "python3"
  },
  "language_info": {
   "codemirror_mode": {
    "name": "ipython",
    "version": 3
   },
   "file_extension": ".py",
   "mimetype": "text/x-python",
   "name": "python",
   "nbconvert_exporter": "python",
   "pygments_lexer": "ipython3",
   "version": "3.7.6"
  }
 },
 "nbformat": 4,
 "nbformat_minor": 4
}
