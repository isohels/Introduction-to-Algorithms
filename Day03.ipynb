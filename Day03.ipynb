{
 "cells": [
  {
   "cell_type": "markdown",
   "metadata": {},
   "source": [
    "### Sum of an array\n",
    " - This is Brute force approach and time complexity will be O(n)\n",
    " - Array elements are entered in a space separated form"
   ]
  },
  {
   "cell_type": "code",
   "execution_count": 12,
   "metadata": {},
   "outputs": [
    {
     "name": "stdout",
     "output_type": "stream",
     "text": [
      "Enter array :4 5 -9\n",
      "0\n"
     ]
    }
   ],
   "source": [
    "def Sum(arr):\n",
    "    sum = 0\n",
    "    \n",
    "    for nums in arr.split():\n",
    "        \n",
    "        nums = int(nums)\n",
    "        sum = sum+nums\n",
    "    \n",
    "    \n",
    "    print(sum)\n",
    "            \n",
    "    \n",
    "\n",
    "Sum((input(\"Enter array :\")))"
   ]
  },
  {
   "cell_type": "markdown",
   "metadata": {},
   "source": [
    "### Partial Sum of an array\n",
    " - Brute Force approach"
   ]
  },
  {
   "cell_type": "code",
   "execution_count": null,
   "metadata": {},
   "outputs": [],
   "source": [
    "myarray = list(map(int,input().split()))\n",
    "\n",
    "def partialSum(x,y):\n",
    "    \n",
    "    sum = 0\n",
    "    values = ((myarray[x:y+1]))\n",
    "    \n",
    "    for nums in values:\n",
    "        sum += nums\n",
    "        \n",
    "    print(sum)\n",
    "        \n",
    "partialSum(2,4)"
   ]
  },
  {
   "cell_type": "markdown",
   "metadata": {},
   "source": [
    "### Improvised Approach"
   ]
  },
  {
   "cell_type": "code",
   "execution_count": 2,
   "metadata": {},
   "outputs": [
    {
     "name": "stdout",
     "output_type": "stream",
     "text": [
      "7 -2 3 9 -11 5 1 -3\n",
      "[7, -2, 3, 9, -11, 5, 1, -3]\n",
      "[7, 5, 8, 17, 6, 11, 12, 9]\n",
      "1\n"
     ]
    }
   ],
   "source": [
    "myarray = list(map(int,input().split()))\n",
    "mysums = []\n",
    "\n",
    "def partialSum(x,y):\n",
    "    sum = 0\n",
    "    print(myarray)\n",
    "    \n",
    "    for nums in myarray:\n",
    "        \n",
    "        sum += nums\n",
    "        mysums.append(sum)\n",
    "    \n",
    "    print(mysums)    \n",
    "    print(mysums[y]-mysums[(x-1)])\n",
    "    \n",
    "    \n",
    "partialSum(2,4)\n",
    "        "
   ]
  },
  {
   "cell_type": "code",
   "execution_count": null,
   "metadata": {},
   "outputs": [],
   "source": []
  }
 ],
 "metadata": {
  "kernelspec": {
   "display_name": "Python 3",
   "language": "python",
   "name": "python3"
  },
  "language_info": {
   "codemirror_mode": {
    "name": "ipython",
    "version": 3
   },
   "file_extension": ".py",
   "mimetype": "text/x-python",
   "name": "python",
   "nbconvert_exporter": "python",
   "pygments_lexer": "ipython3",
   "version": "3.7.6"
  }
 },
 "nbformat": 4,
 "nbformat_minor": 4
}
