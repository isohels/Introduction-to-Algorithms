{
 "cells": [
  {
   "cell_type": "markdown",
   "metadata": {},
   "source": [
    "### Sum of an array\n",
    " - This is Brute force approach and time complexity will be O(n)\n",
    " - Array elements are entered in a space separated form"
   ]
  },
  {
   "cell_type": "code",
   "execution_count": 12,
   "metadata": {},
   "outputs": [
    {
     "name": "stdout",
     "output_type": "stream",
     "text": [
      "Enter array :4 5 -9\n",
      "0\n"
     ]
    }
   ],
   "source": [
    "def Sum(arr):\n",
    "    sum = 0\n",
    "    \n",
    "    for nums in arr.split():\n",
    "        \n",
    "        nums = int(nums)\n",
    "        sum = sum+nums\n",
    "    \n",
    "    \n",
    "    print(sum)\n",
    "            \n",
    "    \n",
    "\n",
    "Sum((input(\"Enter array :\")))"
   ]
  },
  {
   "cell_type": "markdown",
   "metadata": {},
   "source": [
    "### Partial Sum of an array\n",
    " - Brute Force approach"
   ]
  },
  {
   "cell_type": "code",
   "execution_count": null,
   "metadata": {},
   "outputs": [],
   "source": [
    "myarray = list(map(int,input().split()))\n",
    "\n",
    "def partialSum(x,y):\n",
    "    \n",
    "    sum = 0\n",
    "    values = ((myarray[x:y+1]))\n",
    "    \n",
    "    for nums in values:\n",
    "        sum += nums\n",
    "        \n",
    "    print(sum)\n",
    "        \n",
    "partialSum(2,4)"
   ]
  },
  {
   "cell_type": "markdown",
   "metadata": {},
   "source": [
    "### Improvised Approach\n",
    "- Complexity of this approach is O(n)*O(1)"
   ]
  },
  {
   "cell_type": "code",
   "execution_count": 3,
   "metadata": {},
   "outputs": [
    {
     "name": "stdout",
     "output_type": "stream",
     "text": [
      "1 2 3 4 5 6 7 8 9\n",
      "[1, 2, 3, 4, 5, 6, 7, 8, 9]\n",
      "[1, 3, 6, 10, 15, 21, 28, 36, 45]\n",
      "12\n"
     ]
    }
   ],
   "source": [
    "myarray = list(map(int,input().split()))\n",
    "mysums = []\n",
    "\n",
    "def partialSum(x,y):\n",
    "    sum = 0\n",
    "    print(myarray)\n",
    "    \n",
    "    for nums in myarray:\n",
    "        \n",
    "        sum += nums\n",
    "        mysums.append(sum)\n",
    "    \n",
    "    print(mysums)    \n",
    "    print(mysums[y]-mysums[(x-1)])\n",
    "    \n",
    "    \n",
    "partialSum(2,4)\n",
    "        "
   ]
  },
  {
   "cell_type": "markdown",
   "metadata": {},
   "source": [
    "### Range Update Trick"
   ]
  },
  {
   "cell_type": "code",
   "execution_count": 17,
   "metadata": {},
   "outputs": [],
   "source": [
    "from operator import add"
   ]
  },
  {
   "cell_type": "code",
   "execution_count": 18,
   "metadata": {},
   "outputs": [
    {
     "name": "stdout",
     "output_type": "stream",
     "text": [
      "1 2 3 4 5 6 7 8 9\n",
      "[0, 0, 0, 5, 0, 0, 0, 0, -5, 0, 0]\n",
      "[0, 0, 0, 5, 5, 5, 5, 5, 0, 0, 0]\n",
      "[1, 2, 3, 9, 10, 11, 12, 13, 9]\n"
     ]
    }
   ],
   "source": [
    "myarray = list(map(int,input().split()))\n",
    "myvalue = [0]*len(myarray)\n",
    "mysum = []\n",
    "def rangeUpdate(x,y,val):\n",
    "    sum=0\n",
    "    myvalue.insert(x,val)\n",
    "    myvalue.insert(y+1,-val)\n",
    "    \n",
    "    for nums in myvalue:\n",
    "        sum += nums\n",
    "        mysum.append(sum)\n",
    "    \n",
    "    print((myvalue))\n",
    "    print(mysum)\n",
    "    \n",
    "    res_list = list(map(add, myarray, mysum))\n",
    "    \n",
    "    print(res_list)\n",
    "    \n",
    "rangeUpdate(3,7,5)"
   ]
  },
  {
   "cell_type": "code",
   "execution_count": null,
   "metadata": {},
   "outputs": [],
   "source": []
  }
 ],
 "metadata": {
  "kernelspec": {
   "display_name": "Python 3",
   "language": "python",
   "name": "python3"
  },
  "language_info": {
   "codemirror_mode": {
    "name": "ipython",
    "version": 3
   },
   "file_extension": ".py",
   "mimetype": "text/x-python",
   "name": "python",
   "nbconvert_exporter": "python",
   "pygments_lexer": "ipython3",
   "version": "3.7.6"
  }
 },
 "nbformat": 4,
 "nbformat_minor": 4
}
