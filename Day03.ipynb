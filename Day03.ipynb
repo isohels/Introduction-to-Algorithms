{
 "cells": [
  {
   "cell_type": "markdown",
   "metadata": {},
   "source": [
    "### Partial Sum of an array\n",
    " - This is Brute force approach and time complexity will be"
   ]
  },
  {
   "cell_type": "code",
   "execution_count": 12,
   "metadata": {},
   "outputs": [
    {
     "name": "stdout",
     "output_type": "stream",
     "text": [
      "Enter array :4 5 -9\n",
      "0\n"
     ]
    }
   ],
   "source": [
    "def partialSum(arr):\n",
    "    sum = 0\n",
    "    \n",
    "    for nums in arr.split():\n",
    "        \n",
    "        nums = int(nums)\n",
    "        sum = sum+nums\n",
    "    \n",
    "    \n",
    "    print(sum)\n",
    "            \n",
    "    \n",
    "\n",
    "partialSum((input(\"Enter array :\")))"
   ]
  },
  {
   "cell_type": "code",
   "execution_count": null,
   "metadata": {},
   "outputs": [],
   "source": []
  }
 ],
 "metadata": {
  "kernelspec": {
   "display_name": "Python 3",
   "language": "python",
   "name": "python3"
  },
  "language_info": {
   "codemirror_mode": {
    "name": "ipython",
    "version": 3
   },
   "file_extension": ".py",
   "mimetype": "text/x-python",
   "name": "python",
   "nbconvert_exporter": "python",
   "pygments_lexer": "ipython3",
   "version": "3.7.6"
  }
 },
 "nbformat": 4,
 "nbformat_minor": 4
}
